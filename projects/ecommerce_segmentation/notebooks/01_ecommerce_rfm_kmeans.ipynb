{
 "cells": [
  {
   "cell_type": "markdown",
   "id": "4be41ae2",
   "metadata": {},
   "source": [
    "# E-commerce Customer Segmentation (RFM + KMeans)\n",
    "This notebook builds RFM features using SQL (optional) and performs KMeans clustering in Python. If you don't have a dataset yet, it will generate a small synthetic dataset to demo the pipeline."
   ]
  },
  {
   "cell_type": "code",
   "execution_count": null,
   "id": "6f10fea0",
   "metadata": {},
   "outputs": [],
   "source": [
    "\n",
    "# Setup\n",
    "import os, sqlite3, math\n",
    "import pandas as pd\n",
    "import numpy as np\n",
    "from datetime import datetime, timedelta\n",
    "from sklearn.preprocessing import StandardScaler\n",
    "from sklearn.cluster import KMeans\n",
    "from sklearn.metrics import silhouette_score\n",
    "import matplotlib.pyplot as plt\n",
    "\n",
    "# Do not set styles or colors to keep defaults.\n",
    "pd.set_option(\"display.max_rows\", 8)\n",
    "print(\"Libraries imported.\")\n"
   ]
  },
  {
   "cell_type": "markdown",
   "id": "33257494",
   "metadata": {},
   "source": [
    "## 1) Load or simulate transactions"
   ]
  },
  {
   "cell_type": "code",
   "execution_count": null,
   "id": "22c5d6f4",
   "metadata": {},
   "outputs": [],
   "source": [
    "\n",
    "# Try to load a CSV named 'online_retail.csv' if present, else simulate a small dataset.\n",
    "csv_path = 'online_retail.csv'  # Put your real dataset here.\n",
    "if os.path.exists(csv_path):\n",
    "    df = pd.read_csv(csv_path)\n",
    "    # Try to normalize column names\n",
    "    df.columns = [c.strip().lower() for c in df.columns]\n",
    "    # Minimal column expectation\n",
    "    assert {'customerid','invoiceno','invoicedate','quantity','unitprice'}.issubset(set(df.columns)),             \"CSV missing required columns.\"\n",
    "    df['invoicedate'] = pd.to_datetime(df['invoicedate'])\n",
    "    print(\"Loaded dataset:\", df.shape)\n",
    "else:\n",
    "    # Simulate 1k transactions for ~200 customers\n",
    "    rng = np.random.default_rng(42)\n",
    "    n_customers = 200\n",
    "    customer_ids = np.arange(10000, 10000+n_customers)\n",
    "    base_date = datetime(2024, 1, 1)\n",
    "    rows = []\n",
    "    for cid in customer_ids:\n",
    "        n_orders = rng.integers(1, 12)\n",
    "        order_dates = [base_date + timedelta(days=int(rng.integers(0, 365))) for _ in range(n_orders)]\n",
    "        for od in order_dates:\n",
    "            quantity = int(rng.integers(1, 10))\n",
    "            price = float(rng.uniform(5, 100))\n",
    "            rows.append([cid, f\"INV{cid}{od.strftime('%m%d')}{rng.integers(100,999)}\", od, quantity, price])\n",
    "    df = pd.DataFrame(rows, columns=['customerid','invoiceno','invoicedate','quantity','unitprice'])\n",
    "    print(\"Simulated dataset:\", df.shape)\n",
    "\n",
    "df.head()\n"
   ]
  },
  {
   "cell_type": "markdown",
   "id": "aeebc957",
   "metadata": {},
   "source": [
    "## 2) Build RFM features in Python"
   ]
  },
  {
   "cell_type": "code",
   "execution_count": null,
   "id": "a386dace",
   "metadata": {},
   "outputs": [],
   "source": [
    "\n",
    "# Monetary per order\n",
    "df['amount'] = df['quantity'] * df['unitprice']\n",
    "orders = (df\n",
    "          .assign(order_date=df['invoicedate'].dt.date)\n",
    "          .groupby(['customerid','invoiceno','order_date'], as_index=False)['amount'].sum())\n",
    "\n",
    "# Customer-level aggregates\n",
    "customer = (orders.groupby('customerid', as_index=False)\n",
    "                  .agg(frequency=('invoiceno','nunique'),\n",
    "                       monetary=('amount','sum'),\n",
    "                       last_order_date=('order_date','max')))\n",
    "\n",
    "ref_date = orders['order_date'].max()\n",
    "customer['recency_days'] = (pd.to_datetime(ref_date) - pd.to_datetime(customer['last_order_date'])).dt.days\n",
    "\n",
    "features = customer[['customerid','recency_days','frequency','monetary']].copy()\n",
    "features.head()\n"
   ]
  },
  {
   "cell_type": "markdown",
   "id": "f82848c1",
   "metadata": {},
   "source": [
    "## 3) Scale features and choose K"
   ]
  },
  {
   "cell_type": "code",
   "execution_count": null,
   "id": "fe7abd07",
   "metadata": {},
   "outputs": [],
   "source": [
    "\n",
    "X = features[['recency_days','frequency','monetary']].values\n",
    "scaler = StandardScaler()\n",
    "Xs = scaler.fit_transform(X)\n",
    "\n",
    "# Elbow + silhouette to choose K\n",
    "ks = range(2, 7)\n",
    "inertia = []\n",
    "sil = []\n",
    "for k in ks:\n",
    "    km = KMeans(n_clusters=k, n_init='auto', random_state=42)\n",
    "    km.fit(Xs)\n",
    "    inertia.append(km.inertia_)\n",
    "    sil.append(silhouette_score(Xs, km.labels_))\n",
    "\n",
    "plt.figure()\n",
    "plt.plot(list(ks), inertia, marker='o')\n",
    "plt.title(\"Elbow (Inertia)\")\n",
    "plt.xlabel(\"k\"); plt.ylabel(\"Inertia\"); plt.show()\n",
    "\n",
    "plt.figure()\n",
    "plt.plot(list(ks), sil, marker='o')\n",
    "plt.title(\"Silhouette Score by k\")\n",
    "plt.xlabel(\"k\"); plt.ylabel(\"Silhouette\"); plt.show()\n",
    "\n",
    "best_k = ks[int(np.argmax(np.array(sil)))]\n",
    "print(\"Chosen k (by silhouette):\", best_k)\n"
   ]
  },
  {
   "cell_type": "markdown",
   "id": "e3274d48",
   "metadata": {},
   "source": [
    "## 4) Fit KMeans and profile segments"
   ]
  },
  {
   "cell_type": "code",
   "execution_count": null,
   "id": "c8a2cc1c",
   "metadata": {},
   "outputs": [],
   "source": [
    "\n",
    "k = best_k\n",
    "km = KMeans(n_clusters=k, n_init='auto', random_state=42)\n",
    "labels = km.fit_predict(Xs)\n",
    "features['segment'] = labels\n",
    "\n",
    "# Profile each segment\n",
    "profile = (features.groupby('segment')\n",
    "           .agg(count=('customerid','nunique'),\n",
    "                avg_recency=('recency_days','mean'),\n",
    "                avg_freq=('frequency','mean'),\n",
    "                avg_monetary=('monetary','mean'))\n",
    "           .reset_index())\n",
    "profile = profile.sort_values('avg_monetary', ascending=False)\n",
    "display(profile)\n",
    "\n",
    "# Save results\n",
    "out_csv = \"customer_segments.csv\"\n",
    "features.to_csv(out_csv, index=False)\n",
    "print(\"Saved:\", out_csv)\n"
   ]
  },
  {
   "cell_type": "markdown",
   "id": "2850692c",
   "metadata": {},
   "source": [
    "## 5) Visualize cluster monetary distribution"
   ]
  },
  {
   "cell_type": "code",
   "execution_count": null,
   "id": "d4e37da8",
   "metadata": {},
   "outputs": [],
   "source": [
    "\n",
    "plt.figure()\n",
    "for s in sorted(features['segment'].unique()):\n",
    "    subset = features[features['segment']==s]['monetary']\n",
    "    subset.plot(kind='kde', label=f\"seg {s}\")\n",
    "plt.title(\"Monetary Distribution per Segment\")\n",
    "plt.xlabel(\"Monetary\"); plt.legend(); plt.show()\n"
   ]
  },
  {
   "cell_type": "markdown",
   "id": "c35d724e",
   "metadata": {},
   "source": [
    "## 6) Next steps\n",
    
   ]
  }
 ],
 "metadata": {},
 "nbformat": 4,
 "nbformat_minor": 5
}
