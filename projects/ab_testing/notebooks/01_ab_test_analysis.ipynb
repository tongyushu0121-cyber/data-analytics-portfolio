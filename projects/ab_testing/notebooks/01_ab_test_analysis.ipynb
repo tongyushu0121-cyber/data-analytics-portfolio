{
 "cells": [
  {
   "cell_type": "markdown",
   "id": "3f7d622c",
   "metadata": {},
   "source": [
    "# A/B Test Analysis for Marketing Campaigns\n",
    "Simulated example with two variants (A vs B)."
   ]
  },
  {
   "cell_type": "code",
   "execution_count": null,
   "id": "9e0664d0",
   "metadata": {},
   "outputs": [],
   "source": [
    "\n",
    "import numpy as np, pandas as pd\n",
    "from scipy import stats\n",
    "import matplotlib.pyplot as plt\n",
    "\n",
    "# Simulate data: impressions, clicks, conversions\n",
    "rng = np.random.default_rng(123)\n",
    "nA, nB = 2000, 2000\n",
    "ctrA, ctrB = 0.065, 0.075\n",
    "convA, convB = 0.12, 0.135  # conversion rate given a click\n",
    "\n",
    "impressions = pd.DataFrame({\n",
    "    'variant': ['A']*nA + ['B']*nB,\n",
    "    'clicked': np.r_[rng.random(nA) < ctrA, rng.random(nB) < ctrB]\n",
    "})\n",
    "clicks = impressions[impressions['clicked']].copy()\n",
    "clicks['converted'] = (rng.random(len(clicks)) < np.where(clicks['variant']=='A', convA, convB))\n",
    "\n",
    "# CTR\n",
    "ctr = impressions.groupby('variant')['clicked'].mean().rename('ctr').reset_index()\n",
    "# CVR conditional on click\n",
    "cvr = clicks.groupby('variant')['converted'].mean().rename('cvr').reset_index()\n",
    "\n",
    "print(\"CTR\\n\", ctr)\n",
    "print(\"\\nCVR (given click)\\n\", cvr)\n"
   ]
  },
  {
   "cell_type": "markdown",
   "id": "705871d4",
   "metadata": {},
   "source": [
    "## Two-proportion z-test for CTR uplift"
   ]
  },
  {
   "cell_type": "code",
   "execution_count": null,
   "id": "290a52a7",
   "metadata": {},
   "outputs": [],
   "source": [
    "\n",
    "def two_prop_ztest(success_a, total_a, success_b, total_b):\n",
    "    p1 = success_a / total_a\n",
    "    p2 = success_b / total_b\n",
    "    p = (success_a + success_b) / (total_a + total_b)\n",
    "    se = (p*(1-p)*(1/total_a + 1/total_b))**0.5\n",
    "    z = (p1 - p2) / se\n",
    "    pval = 2 * (1 - stats.norm.cdf(abs(z)))\n",
    "    return z, pval\n",
    "\n",
    "a_clicks = impressions.query(\"variant=='A'\")['clicked'].sum()\n",
    "b_clicks = impressions.query(\"variant=='B'\")['clicked'].sum()\n",
    "z, pval = two_prop_ztest(a_clicks, nA, b_clicks, nB)\n",
    "print(f\"CTR z={z:.3f}, p={pval:.5f}\")\n"
   ]
  },
  {
   "cell_type": "markdown",
   "id": "13124c91",
   "metadata": {},
   "source": [
    "## Visualize CTR by variant"
   ]
  },
  {
   "cell_type": "code",
   "execution_count": null,
   "id": "72c2c297",
   "metadata": {},
   "outputs": [],
   "source": [
    "\n",
    "ctr.set_index('variant')['ctr'].plot(kind='bar')\n",
    "plt.title('CTR by Variant')\n",
    "plt.ylabel('CTR')\n",
    "plt.show()\n"
   ]
  },
  {
   "cell_type": "markdown",
   "id": "7db3be9e",
   "metadata": {},
   "source": [
    "## Notes\n",
    "- Replace the simulation with your real ad log data.\n",
    "- Add cost columns to compute CPA/ROI.\n",
    "- Document business recommendation in the repo README."
   ]
  }
 ],
 "metadata": {},
 "nbformat": 4,
 "nbformat_minor": 5
}
