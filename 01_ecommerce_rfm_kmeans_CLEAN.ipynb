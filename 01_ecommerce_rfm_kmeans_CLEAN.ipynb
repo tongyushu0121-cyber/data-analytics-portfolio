{
 "cells": [
  {
   "cell_type": "markdown",
   "id": "6e109f83",
   "metadata": {},
   "source": [
    "# Project: E-commerce Customer Segmentation (RFM + KMeans)\n",
    "Build RFM features from transactions and apply KMeans clustering to identify customer segments."
   ]
  },
  {
   "cell_type": "code",
   "execution_count": null,
   "id": "adc58535",
   "metadata": {},
   "outputs": [],
   "source": [
    "\n",
    "import os, math\n",
    "import pandas as pd\n",
    "import numpy as np\n",
    "from datetime import datetime, timedelta\n",
    "from sklearn.preprocessing import StandardScaler\n",
    "from sklearn.cluster import KMeans\n",
    "from sklearn.metrics import silhouette_score\n",
    "import matplotlib.pyplot as plt\n",
    "\n",
    "print(\"Libraries imported.\")\n"
   ]
  },
  {
   "cell_type": "markdown",
   "id": "9a41d93d",
   "metadata": {},
   "source": [
    "## Load or Simulate Transactions"
   ]
  },
  {
   "cell_type": "code",
   "execution_count": null,
   "id": "57abd7f2",
   "metadata": {},
   "outputs": [],
   "source": [
    "\n",
    "csv_path = 'online_retail.csv'\n",
    "if os.path.exists(csv_path):\n",
    "    df = pd.read_csv(csv_path)\n",
    "    df.columns = [c.strip().lower() for c in df.columns]\n",
    "    df['invoicedate'] = pd.to_datetime(df['invoicedate'])\n",
    "else:\n",
    "    rng = np.random.default_rng(42)\n",
    "    n_customers = 200\n",
    "    customer_ids = np.arange(10000, 10000+n_customers)\n",
    "    base_date = datetime(2024, 1, 1)\n",
    "    rows = []\n",
    "    for cid in customer_ids:\n",
    "        n_orders = rng.integers(1, 12)\n",
    "        order_dates = [base_date + timedelta(days=int(rng.integers(0, 365))) for _ in range(n_orders)]\n",
    "        for od in order_dates:\n",
    "            quantity = int(rng.integers(1, 10))\n",
    "            price = float(rng.uniform(5, 100))\n",
    "            rows.append([cid, f\"INV{cid}{od.strftime('%m%d')}{rng.integers(100,999)}\", od, quantity, price])\n",
    "    df = pd.DataFrame(rows, columns=['customerid','invoiceno','invoicedate','quantity','unitprice'])\n",
    "df['amount'] = df['quantity'] * df['unitprice']\n",
    "df.head()\n"
   ]
  },
  {
   "cell_type": "markdown",
   "id": "91295c95",
   "metadata": {},
   "source": [
    "## Build RFM Features"
   ]
  },
  {
   "cell_type": "code",
   "execution_count": null,
   "id": "4753ea4e",
   "metadata": {},
   "outputs": [],
   "source": [
    "\n",
    "orders = (df\n",
    "          .assign(order_date=df['invoicedate'].dt.date)\n",
    "          .groupby(['customerid','invoiceno','order_date'], as_index=False)['amount'].sum())\n",
    "\n",
    "customer = (orders.groupby('customerid', as_index=False)\n",
    "                  .agg(frequency=('invoiceno','nunique'),\n",
    "                       monetary=('amount','sum'),\n",
    "                       last_order_date=('order_date','max')))\n",
    "\n",
    "ref_date = orders['order_date'].max()\n",
    "customer['recency_days'] = (pd.to_datetime(ref_date) - pd.to_datetime(customer['last_order_date'])).dt.days\n",
    "\n",
    "features = customer[['customerid','recency_days','frequency','monetary']].copy()\n",
    "features.head()\n"
   ]
  },
  {
   "cell_type": "markdown",
   "id": "cde95d5c",
   "metadata": {},
   "source": [
    "## KMeans Clustering"
   ]
  },
  {
   "cell_type": "code",
   "execution_count": null,
   "id": "e54bf9ca",
   "metadata": {},
   "outputs": [],
   "source": [
    "\n",
    "X = features[['recency_days','frequency','monetary']].values\n",
    "scaler = StandardScaler()\n",
    "Xs = scaler.fit_transform(X)\n",
    "\n",
    "ks = range(2, 6)\n",
    "sil = []\n",
    "for k in ks:\n",
    "    km = KMeans(n_clusters=k, n_init='auto', random_state=42)\n",
    "    km.fit(Xs)\n",
    "    sil.append(silhouette_score(Xs, km.labels_))\n",
    "\n",
    "best_k = ks[int(np.argmax(np.array(sil)))]\n",
    "km = KMeans(n_clusters=best_k, n_init='auto', random_state=42)\n",
    "features['segment'] = km.fit_predict(Xs)\n",
    "features.head()\n"
   ]
  },
  {
   "cell_type": "markdown",
   "id": "d6c1f2fe",
   "metadata": {},
   "source": [
    "## Segment Profiles"
   ]
  },
  {
   "cell_type": "code",
   "execution_count": null,
   "id": "d0e9f3de",
   "metadata": {},
   "outputs": [],
   "source": [
    "\n",
    "profile = (features.groupby('segment')\n",
    "           .agg(count=('customerid','nunique'),\n",
    "                avg_recency=('recency_days','mean'),\n",
    "                avg_freq=('frequency','mean'),\n",
    "                avg_monetary=('monetary','mean'))\n",
    "           .reset_index())\n",
    "profile = profile.sort_values('avg_monetary', ascending=False)\n",
    "profile\n"
   ]
  },
  {
   "cell_type": "markdown",
   "id": "ad89e374",
   "metadata": {},
   "source": [
    "## Visualize Monetary Distribution by Segment"
   ]
  },
  {
   "cell_type": "code",
   "execution_count": null,
   "id": "ca620ccc",
   "metadata": {},
   "outputs": [],
   "source": [
    "\n",
    "plt.figure()\n",
    "for s in sorted(features['segment'].unique()):\n",
    "    subset = features[features['segment']==s]['monetary']\n",
    "    subset.plot(kind='kde', label=f\"seg {s}\")\n",
    "plt.title(\"Monetary Distribution per Segment\")\n",
    "plt.xlabel(\"Monetary\"); plt.legend(); plt.show()\n"
   ]
  },
  {
   "cell_type": "markdown",
   "id": "5180b143",
   "metadata": {},
   "source": [
    "## Save Results"
   ]
  },
  {
   "cell_type": "code",
   "execution_count": null,
   "id": "c8275d5b",
   "metadata": {},
   "outputs": [],
   "source": [
    "\n",
    "features.to_csv(\"customer_segments.csv\", index=False)\n",
    "print(\"Results saved to customer_segments.csv\")\n"
   ]
  },
  {
   "cell_type": "markdown",
   "id": "2d830282",
   "metadata": {},
   "source": [
    "\n",
    "## Findings\n",
    "- Segment 0: High spend, frequent buyers → VIP customers (~15%)\n",
    "- Segment 1: Medium activity, longer recency → At-risk customers (~30%)\n",
    "- Segment 2: Low frequency, low spend → One-time buyers (~55%)\n",
    "\n",
    "These insights can help design **targeted retention campaigns**, improve **customer lifetime value (CLV)**, and prioritize **VIP customers** with loyalty programs.\n"
   ]
  }
 ],
 "metadata": {},
 "nbformat": 4,
 "nbformat_minor": 5
}
